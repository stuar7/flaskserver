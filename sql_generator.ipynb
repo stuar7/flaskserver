{
 "cells": [
  {
   "cell_type": "code",
   "execution_count": 65,
   "metadata": {},
   "outputs": [],
   "source": [
    "from datetime import datetime\n",
    "#x_start = 20\n",
    "#x_end = 100\n",
    "#y_top = 14\n",
    "#y_bottom = 49\n",
    "#y_space = 46\n",
    "\n",
    "table = \"uwacarpark1\"\n",
    "\n",
    "x_start = 662\n",
    "x_end = 680\n",
    "y_top = 769\n",
    "y_bottom = 714\n",
    "\n",
    "x_space = x_end - x_start + 4\n",
    "y_space = 0\n",
    "\n",
    "b_amount = 18\n",
    "# 226,769\",p2=\"244,769\",p3=\"244,714\",p4=\"226,714\"\n",
    "id_buffer = 23"
   ]
  },
  {
   "cell_type": "code",
   "execution_count": 56,
   "metadata": {},
   "outputs": [
    {
     "name": "stdout",
     "output_type": "stream",
     "text": [
      "INSERT INTO uwacarpark1 (id,p1,p2,p3,p4,status,date) VALUES (20,\"554,769\",\"571,769\",\"571,714\",\"554,714\",\"empty\",1664867676);\n",
      "INSERT INTO uwacarpark1 (id,p1,p2,p3,p4,status,date) VALUES (21,\"575,769\",\"592,769\",\"592,714\",\"575,714\",\"empty\",1664867676);\n",
      "INSERT INTO uwacarpark1 (id,p1,p2,p3,p4,status,date) VALUES (22,\"596,769\",\"613,769\",\"613,714\",\"596,714\",\"empty\",1664867676);\n",
      "INSERT INTO uwacarpark1 (id,p1,p2,p3,p4,status,date) VALUES (23,\"617,769\",\"634,769\",\"634,714\",\"617,714\",\"empty\",1664867676);\n",
      "INSERT INTO uwacarpark1 (id,p1,p2,p3,p4,status,date) VALUES (24,\"638,769\",\"655,769\",\"655,714\",\"638,714\",\"empty\",1664867676);\n",
      "INSERT INTO uwacarpark1 (id,p1,p2,p3,p4,status,date) VALUES (25,\"659,769\",\"676,769\",\"676,714\",\"659,714\",\"empty\",1664867676);\n",
      "INSERT INTO uwacarpark1 (id,p1,p2,p3,p4,status,date) VALUES (26,\"680,769\",\"697,769\",\"697,714\",\"680,714\",\"empty\",1664867676);\n",
      "INSERT INTO uwacarpark1 (id,p1,p2,p3,p4,status,date) VALUES (27,\"701,769\",\"718,769\",\"718,714\",\"701,714\",\"empty\",1664867676);\n",
      "INSERT INTO uwacarpark1 (id,p1,p2,p3,p4,status,date) VALUES (28,\"722,769\",\"739,769\",\"739,714\",\"722,714\",\"empty\",1664867676);\n",
      "INSERT INTO uwacarpark1 (id,p1,p2,p3,p4,status,date) VALUES (29,\"743,769\",\"760,769\",\"760,714\",\"743,714\",\"empty\",1664867676);\n",
      "INSERT INTO uwacarpark1 (id,p1,p2,p3,p4,status,date) VALUES (30,\"764,769\",\"781,769\",\"781,714\",\"764,714\",\"empty\",1664867676);\n",
      "INSERT INTO uwacarpark1 (id,p1,p2,p3,p4,status,date) VALUES (31,\"785,769\",\"802,769\",\"802,714\",\"785,714\",\"empty\",1664867676);\n",
      "INSERT INTO uwacarpark1 (id,p1,p2,p3,p4,status,date) VALUES (32,\"806,769\",\"823,769\",\"823,714\",\"806,714\",\"empty\",1664867676);\n",
      "INSERT INTO uwacarpark1 (id,p1,p2,p3,p4,status,date) VALUES (33,\"827,769\",\"844,769\",\"844,714\",\"827,714\",\"empty\",1664867676);\n",
      "INSERT INTO uwacarpark1 (id,p1,p2,p3,p4,status,date) VALUES (34,\"848,769\",\"865,769\",\"865,714\",\"848,714\",\"empty\",1664867676);\n",
      "INSERT INTO uwacarpark1 (id,p1,p2,p3,p4,status,date) VALUES (35,\"869,769\",\"886,769\",\"886,714\",\"869,714\",\"empty\",1664867676);\n",
      "INSERT INTO uwacarpark1 (id,p1,p2,p3,p4,status,date) VALUES (36,\"890,769\",\"907,769\",\"907,714\",\"890,714\",\"empty\",1664867676);\n",
      "INSERT INTO uwacarpark1 (id,p1,p2,p3,p4,status,date) VALUES (37,\"911,769\",\"928,769\",\"928,714\",\"911,714\",\"empty\",1664867676);\n",
      "INSERT INTO uwacarpark1 (id,p1,p2,p3,p4,status,date) VALUES (38,\"932,769\",\"949,769\",\"949,714\",\"932,714\",\"empty\",1664867676);\n"
     ]
    }
   ],
   "source": [
    "for x in range(0, b_amount+1):\n",
    "    id = x+1 + id_buffer\n",
    "    p1 = f'\"{x_start + x_space*x},' + str(y_top + y_space*x) +'\"'\n",
    "    p2 = f'\"{x_end +  x_space*x},' + str(y_top + y_space*x) +'\"'\n",
    "    p3 = f'\"{x_end +  x_space*x},' + str(y_bottom + y_space*x) +'\"'\n",
    "    p4 = f'\"{x_start +  x_space*x},' + str(y_bottom + y_space*x) +'\"'\n",
    "    status = '\"empty\"'\n",
    "    date = int(datetime.now().timestamp())\n",
    "    insert = f\"INSERT INTO {table} (id,p1,p2,p3,p4,status,date) VALUES ({str(id)},{p1},{p2},{p3},{p4},{status},{str(date)});\"\n",
    "    print(insert)"
   ]
  },
  {
   "cell_type": "code",
   "execution_count": 66,
   "metadata": {},
   "outputs": [
    {
     "name": "stdout",
     "output_type": "stream",
     "text": [
      "UPDATE uwacarpark1 SET p1=\"617,769\",p2=\"635,769\",p3=\"635,714\",p4=\"617,714\",status=\"empty\",date=1664867952 WHERE id=22;\n",
      "UPDATE uwacarpark1 SET p1=\"640,769\",p2=\"658,769\",p3=\"658,714\",p4=\"640,714\",status=\"empty\",date=1664867952 WHERE id=23;\n",
      "UPDATE uwacarpark1 SET p1=\"663,769\",p2=\"681,769\",p3=\"681,714\",p4=\"663,714\",status=\"empty\",date=1664867952 WHERE id=24;\n",
      "UPDATE uwacarpark1 SET p1=\"686,769\",p2=\"704,769\",p3=\"704,714\",p4=\"686,714\",status=\"empty\",date=1664867952 WHERE id=25;\n",
      "UPDATE uwacarpark1 SET p1=\"709,769\",p2=\"727,769\",p3=\"727,714\",p4=\"709,714\",status=\"empty\",date=1664867952 WHERE id=26;\n",
      "UPDATE uwacarpark1 SET p1=\"732,769\",p2=\"750,769\",p3=\"750,714\",p4=\"732,714\",status=\"empty\",date=1664867952 WHERE id=27;\n",
      "UPDATE uwacarpark1 SET p1=\"755,769\",p2=\"773,769\",p3=\"773,714\",p4=\"755,714\",status=\"empty\",date=1664867952 WHERE id=28;\n",
      "UPDATE uwacarpark1 SET p1=\"778,769\",p2=\"796,769\",p3=\"796,714\",p4=\"778,714\",status=\"empty\",date=1664867952 WHERE id=29;\n",
      "UPDATE uwacarpark1 SET p1=\"801,769\",p2=\"819,769\",p3=\"819,714\",p4=\"801,714\",status=\"empty\",date=1664867952 WHERE id=30;\n",
      "UPDATE uwacarpark1 SET p1=\"824,769\",p2=\"842,769\",p3=\"842,714\",p4=\"824,714\",status=\"empty\",date=1664867952 WHERE id=31;\n",
      "UPDATE uwacarpark1 SET p1=\"847,769\",p2=\"865,769\",p3=\"865,714\",p4=\"847,714\",status=\"empty\",date=1664867952 WHERE id=32;\n",
      "UPDATE uwacarpark1 SET p1=\"870,769\",p2=\"888,769\",p3=\"888,714\",p4=\"870,714\",status=\"empty\",date=1664867952 WHERE id=33;\n",
      "UPDATE uwacarpark1 SET p1=\"893,769\",p2=\"911,769\",p3=\"911,714\",p4=\"893,714\",status=\"empty\",date=1664867952 WHERE id=34;\n",
      "UPDATE uwacarpark1 SET p1=\"916,769\",p2=\"934,769\",p3=\"934,714\",p4=\"916,714\",status=\"empty\",date=1664867952 WHERE id=35;\n",
      "UPDATE uwacarpark1 SET p1=\"939,769\",p2=\"957,769\",p3=\"957,714\",p4=\"939,714\",status=\"empty\",date=1664867952 WHERE id=36;\n",
      "UPDATE uwacarpark1 SET p1=\"962,769\",p2=\"980,769\",p3=\"980,714\",p4=\"962,714\",status=\"empty\",date=1664867952 WHERE id=37;\n",
      "UPDATE uwacarpark1 SET p1=\"985,769\",p2=\"1003,769\",p3=\"1003,714\",p4=\"985,714\",status=\"empty\",date=1664867952 WHERE id=38;\n",
      "UPDATE uwacarpark1 SET p1=\"1008,769\",p2=\"1026,769\",p3=\"1026,714\",p4=\"1008,714\",status=\"empty\",date=1664867952 WHERE id=39;\n",
      "UPDATE uwacarpark1 SET p1=\"1031,769\",p2=\"1049,769\",p3=\"1049,714\",p4=\"1031,714\",status=\"empty\",date=1664867952 WHERE id=40;\n"
     ]
    }
   ],
   "source": [
    "for x in range(0, b_amount+1):\n",
    "    id = x+1 + id_buffer\n",
    "    p1 = f'\"{x_start + x_space*x},' + str(y_top + y_space*x) +'\"'\n",
    "    p2 = f'\"{x_end +  x_space*x},' + str(y_top + y_space*x) +'\"'\n",
    "    p3 = f'\"{x_end +  x_space*x},' + str(y_bottom + y_space*x) +'\"'\n",
    "    p4 = f'\"{x_start +  x_space*x},' + str(y_bottom + y_space*x) +'\"'\n",
    "    status = '\"empty\"'\n",
    "    date = int(datetime.now().timestamp())\n",
    "    update = f\"UPDATE {table} SET p1={p1},p2={p2},p3={p3},p4={p4},status={status},date={date} WHERE id={id};\"\n",
    "    print(update)"
   ]
  }
 ],
 "metadata": {
  "kernelspec": {
   "display_name": "Python 3.10.6 64-bit",
   "language": "python",
   "name": "python3"
  },
  "language_info": {
   "codemirror_mode": {
    "name": "ipython",
    "version": 3
   },
   "file_extension": ".py",
   "mimetype": "text/x-python",
   "name": "python",
   "nbconvert_exporter": "python",
   "pygments_lexer": "ipython3",
   "version": "3.10.6"
  },
  "orig_nbformat": 4,
  "vscode": {
   "interpreter": {
    "hash": "70c7beaef8d5ffbc8b78002da42eff76d1e0eacf1346eea99ec5d1e6435fddb5"
   }
  }
 },
 "nbformat": 4,
 "nbformat_minor": 2
}
