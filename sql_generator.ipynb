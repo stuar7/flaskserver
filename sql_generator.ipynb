{
 "cells": [
  {
   "cell_type": "code",
   "execution_count": 67,
   "metadata": {},
   "outputs": [],
   "source": [
    "from datetime import datetime\n",
    "#x_start = 20\n",
    "#x_end = 100\n",
    "#y_top = 14\n",
    "#y_bottom = 49\n",
    "#y_space = 46\n",
    "\n",
    "table = \"uwacarpark1\"\n",
    "\n",
    "x_start = 731\n",
    "x_end = 731 + 3 + 24\n",
    "y_top = 83\n",
    "y_bottom = 13\n",
    "\n",
    "x_space = x_end - x_start + 6 #28 + 5\n",
    "y_space = 0\n",
    "\n",
    "b_amount = 20\n",
    "# 226,769\",p2=\"244,769\",p3=\"244,714\",p4=\"226,714\"\n",
    "id_buffer = 243"
   ]
  },
  {
   "cell_type": "code",
   "execution_count": 68,
   "metadata": {},
   "outputs": [
    {
     "name": "stdout",
     "output_type": "stream",
     "text": [
      "INSERT INTO uwacarpark1 (id,p1,p2,p3,p4,status,date) VALUES (244,\"797,225\",\"824,225\",\"824,155\",\"797,155\",\"empty\",1665247478);\n",
      "INSERT INTO uwacarpark1 (id,p1,p2,p3,p4,status,date) VALUES (245,\"830,225\",\"857,225\",\"857,155\",\"830,155\",\"empty\",1665247478);\n",
      "INSERT INTO uwacarpark1 (id,p1,p2,p3,p4,status,date) VALUES (246,\"863,225\",\"890,225\",\"890,155\",\"863,155\",\"empty\",1665247478);\n",
      "INSERT INTO uwacarpark1 (id,p1,p2,p3,p4,status,date) VALUES (247,\"896,225\",\"923,225\",\"923,155\",\"896,155\",\"empty\",1665247478);\n",
      "INSERT INTO uwacarpark1 (id,p1,p2,p3,p4,status,date) VALUES (248,\"929,225\",\"956,225\",\"956,155\",\"929,155\",\"empty\",1665247478);\n",
      "INSERT INTO uwacarpark1 (id,p1,p2,p3,p4,status,date) VALUES (249,\"962,225\",\"989,225\",\"989,155\",\"962,155\",\"empty\",1665247478);\n",
      "INSERT INTO uwacarpark1 (id,p1,p2,p3,p4,status,date) VALUES (250,\"995,225\",\"1022,225\",\"1022,155\",\"995,155\",\"empty\",1665247478);\n",
      "INSERT INTO uwacarpark1 (id,p1,p2,p3,p4,status,date) VALUES (251,\"1028,225\",\"1055,225\",\"1055,155\",\"1028,155\",\"empty\",1665247478);\n",
      "INSERT INTO uwacarpark1 (id,p1,p2,p3,p4,status,date) VALUES (252,\"1061,225\",\"1088,225\",\"1088,155\",\"1061,155\",\"empty\",1665247478);\n",
      "INSERT INTO uwacarpark1 (id,p1,p2,p3,p4,status,date) VALUES (253,\"1094,225\",\"1121,225\",\"1121,155\",\"1094,155\",\"empty\",1665247478);\n",
      "INSERT INTO uwacarpark1 (id,p1,p2,p3,p4,status,date) VALUES (254,\"1127,225\",\"1154,225\",\"1154,155\",\"1127,155\",\"empty\",1665247478);\n",
      "INSERT INTO uwacarpark1 (id,p1,p2,p3,p4,status,date) VALUES (255,\"1160,225\",\"1187,225\",\"1187,155\",\"1160,155\",\"empty\",1665247478);\n",
      "INSERT INTO uwacarpark1 (id,p1,p2,p3,p4,status,date) VALUES (256,\"1193,225\",\"1220,225\",\"1220,155\",\"1193,155\",\"empty\",1665247478);\n",
      "INSERT INTO uwacarpark1 (id,p1,p2,p3,p4,status,date) VALUES (257,\"1226,225\",\"1253,225\",\"1253,155\",\"1226,155\",\"empty\",1665247478);\n",
      "INSERT INTO uwacarpark1 (id,p1,p2,p3,p4,status,date) VALUES (258,\"1259,225\",\"1286,225\",\"1286,155\",\"1259,155\",\"empty\",1665247478);\n",
      "INSERT INTO uwacarpark1 (id,p1,p2,p3,p4,status,date) VALUES (259,\"1292,225\",\"1319,225\",\"1319,155\",\"1292,155\",\"empty\",1665247478);\n",
      "INSERT INTO uwacarpark1 (id,p1,p2,p3,p4,status,date) VALUES (260,\"1325,225\",\"1352,225\",\"1352,155\",\"1325,155\",\"empty\",1665247478);\n",
      "INSERT INTO uwacarpark1 (id,p1,p2,p3,p4,status,date) VALUES (261,\"1358,225\",\"1385,225\",\"1385,155\",\"1358,155\",\"empty\",1665247478);\n",
      "INSERT INTO uwacarpark1 (id,p1,p2,p3,p4,status,date) VALUES (262,\"1391,225\",\"1418,225\",\"1418,155\",\"1391,155\",\"empty\",1665247478);\n",
      "INSERT INTO uwacarpark1 (id,p1,p2,p3,p4,status,date) VALUES (263,\"1424,225\",\"1451,225\",\"1451,155\",\"1424,155\",\"empty\",1665247478);\n",
      "INSERT INTO uwacarpark1 (id,p1,p2,p3,p4,status,date) VALUES (264,\"1457,225\",\"1484,225\",\"1484,155\",\"1457,155\",\"empty\",1665247478);\n"
     ]
    }
   ],
   "source": [
    "for x in range(0, b_amount+1):\n",
    "    id = x+1 + id_buffer\n",
    "    p1 = f'\"{x_start + x_space*x},' + str(y_top + y_space*x) +'\"'\n",
    "    p2 = f'\"{x_end +  x_space*x},' + str(y_top + y_space*x) +'\"'\n",
    "    p3 = f'\"{x_end +  x_space*x},' + str(y_bottom + y_space*x) +'\"'\n",
    "    p4 = f'\"{x_start +  x_space*x},' + str(y_bottom + y_space*x) +'\"'\n",
    "    status = '\"empty\"'\n",
    "    date = int(datetime.now().timestamp())\n",
    "    insert = f\"INSERT INTO {table} (id,p1,p2,p3,p4,status,date) VALUES ({str(id)},{p1},{p2},{p3},{p4},{status},{str(date)});\"\n",
    "    print(insert)"
   ]
  },
  {
   "cell_type": "code",
   "execution_count": 64,
   "metadata": {},
   "outputs": [
    {
     "name": "stdout",
     "output_type": "stream",
     "text": [
      "UPDATE uwacarpark1 SET p1=\"797,334\",p2=\"824,334\",p3=\"824,264\",p4=\"797,264\",status=\"empty\",date=1665247330 WHERE id=225;\n",
      "UPDATE uwacarpark1 SET p1=\"830,334\",p2=\"857,334\",p3=\"857,264\",p4=\"830,264\",status=\"empty\",date=1665247330 WHERE id=226;\n",
      "UPDATE uwacarpark1 SET p1=\"863,334\",p2=\"890,334\",p3=\"890,264\",p4=\"863,264\",status=\"empty\",date=1665247330 WHERE id=227;\n",
      "UPDATE uwacarpark1 SET p1=\"896,334\",p2=\"923,334\",p3=\"923,264\",p4=\"896,264\",status=\"empty\",date=1665247330 WHERE id=228;\n",
      "UPDATE uwacarpark1 SET p1=\"929,334\",p2=\"956,334\",p3=\"956,264\",p4=\"929,264\",status=\"empty\",date=1665247330 WHERE id=229;\n",
      "UPDATE uwacarpark1 SET p1=\"962,334\",p2=\"989,334\",p3=\"989,264\",p4=\"962,264\",status=\"empty\",date=1665247330 WHERE id=230;\n",
      "UPDATE uwacarpark1 SET p1=\"995,334\",p2=\"1022,334\",p3=\"1022,264\",p4=\"995,264\",status=\"empty\",date=1665247330 WHERE id=231;\n",
      "UPDATE uwacarpark1 SET p1=\"1028,334\",p2=\"1055,334\",p3=\"1055,264\",p4=\"1028,264\",status=\"empty\",date=1665247330 WHERE id=232;\n",
      "UPDATE uwacarpark1 SET p1=\"1061,334\",p2=\"1088,334\",p3=\"1088,264\",p4=\"1061,264\",status=\"empty\",date=1665247330 WHERE id=233;\n",
      "UPDATE uwacarpark1 SET p1=\"1094,334\",p2=\"1121,334\",p3=\"1121,264\",p4=\"1094,264\",status=\"empty\",date=1665247330 WHERE id=234;\n",
      "UPDATE uwacarpark1 SET p1=\"1127,334\",p2=\"1154,334\",p3=\"1154,264\",p4=\"1127,264\",status=\"empty\",date=1665247330 WHERE id=235;\n",
      "UPDATE uwacarpark1 SET p1=\"1160,334\",p2=\"1187,334\",p3=\"1187,264\",p4=\"1160,264\",status=\"empty\",date=1665247330 WHERE id=236;\n",
      "UPDATE uwacarpark1 SET p1=\"1193,334\",p2=\"1220,334\",p3=\"1220,264\",p4=\"1193,264\",status=\"empty\",date=1665247330 WHERE id=237;\n",
      "UPDATE uwacarpark1 SET p1=\"1226,334\",p2=\"1253,334\",p3=\"1253,264\",p4=\"1226,264\",status=\"empty\",date=1665247330 WHERE id=238;\n",
      "UPDATE uwacarpark1 SET p1=\"1259,334\",p2=\"1286,334\",p3=\"1286,264\",p4=\"1259,264\",status=\"empty\",date=1665247330 WHERE id=239;\n",
      "UPDATE uwacarpark1 SET p1=\"1292,334\",p2=\"1319,334\",p3=\"1319,264\",p4=\"1292,264\",status=\"empty\",date=1665247330 WHERE id=240;\n",
      "UPDATE uwacarpark1 SET p1=\"1325,334\",p2=\"1352,334\",p3=\"1352,264\",p4=\"1325,264\",status=\"empty\",date=1665247330 WHERE id=241;\n",
      "UPDATE uwacarpark1 SET p1=\"1358,334\",p2=\"1385,334\",p3=\"1385,264\",p4=\"1358,264\",status=\"empty\",date=1665247330 WHERE id=242;\n",
      "UPDATE uwacarpark1 SET p1=\"1391,334\",p2=\"1418,334\",p3=\"1418,264\",p4=\"1391,264\",status=\"empty\",date=1665247330 WHERE id=243;\n",
      "UPDATE uwacarpark1 SET p1=\"1424,334\",p2=\"1451,334\",p3=\"1451,264\",p4=\"1424,264\",status=\"empty\",date=1665247330 WHERE id=244;\n",
      "UPDATE uwacarpark1 SET p1=\"1457,334\",p2=\"1484,334\",p3=\"1484,264\",p4=\"1457,264\",status=\"empty\",date=1665247330 WHERE id=245;\n"
     ]
    }
   ],
   "source": [
    "for x in range(0, b_amount+1):\n",
    "    id = x+1 + id_buffer\n",
    "    p1 = f'\"{x_start + x_space*x},' + str(y_top + y_space*x) +'\"'\n",
    "    p2 = f'\"{x_end +  x_space*x},' + str(y_top + y_space*x) +'\"'\n",
    "    p3 = f'\"{x_end +  x_space*x},' + str(y_bottom + y_space*x) +'\"'\n",
    "    p4 = f'\"{x_start +  x_space*x},' + str(y_bottom + y_space*x) +'\"'\n",
    "    status = '\"empty\"'\n",
    "    date = int(datetime.now().timestamp())\n",
    "    update = f\"UPDATE {table} SET p1={p1},p2={p2},p3={p3},p4={p4},status={status},date={date} WHERE id={id};\"\n",
    "    print(update)"
   ]
  }
 ],
 "metadata": {
  "kernelspec": {
   "display_name": "Python 3.10.6 64-bit",
   "language": "python",
   "name": "python3"
  },
  "language_info": {
   "codemirror_mode": {
    "name": "ipython",
    "version": 3
   },
   "file_extension": ".py",
   "mimetype": "text/x-python",
   "name": "python",
   "nbconvert_exporter": "python",
   "pygments_lexer": "ipython3",
   "version": "3.10.6"
  },
  "orig_nbformat": 4,
  "vscode": {
   "interpreter": {
    "hash": "70c7beaef8d5ffbc8b78002da42eff76d1e0eacf1346eea99ec5d1e6435fddb5"
   }
  }
 },
 "nbformat": 4,
 "nbformat_minor": 2
}
