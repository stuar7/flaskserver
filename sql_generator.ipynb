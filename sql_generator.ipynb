{
 "cells": [
  {
   "cell_type": "code",
   "execution_count": 2,
   "metadata": {},
   "outputs": [],
   "source": [
    "from datetime import datetime\n",
    "#x_start = 20\n",
    "#x_end = 100\n",
    "#y_top = 14\n",
    "#y_bottom = 49\n",
    "#y_space = 46\n",
    "\n",
    "table = \"carpark\"\n",
    "\n",
    "x_start = 711\n",
    "x_end = 791\n",
    "y_top = 152-46\n",
    "y_bottom = 187-46\n",
    "y_space = 46\n",
    "\n",
    "b_amount = 11\n",
    "\n",
    "id_buffer = 57"
   ]
  },
  {
   "cell_type": "code",
   "execution_count": null,
   "metadata": {},
   "outputs": [],
   "source": [
    "for x in range(0, b_amount+1):\n",
    "    id = x+1 + id_buffer\n",
    "    p1 = f'\"{x_start},' + str(y_top + y_space*x) +'\"'\n",
    "    p2 = f'\"{x_end},' + str(y_top + y_space*x) +'\"'\n",
    "    p3 = f'\"{x_end},' + str(y_bottom + y_space*x) +'\"'\n",
    "    p4 = f'\"{x_start},' + str(y_bottom + y_space*x) +'\"'\n",
    "    status = '\"empty\"'\n",
    "    date = int(datetime.now().timestamp())\n",
    "    insert = f\"INSERT INTO {table} (id,p1,p2,p3,p4,status,date) VALUES ({str(id)},{p1},{p2},{p3},{p4},{status},{str(date)});\"\n",
    "    print(insert)"
   ]
  },
  {
   "cell_type": "code",
   "execution_count": null,
   "metadata": {},
   "outputs": [],
   "source": [
    "for x in range(0, b_amount+1):\n",
    "    id = x+1 + id_buffer\n",
    "    p1 = f'\"{x_start},' + str(y_top + y_space*x) +'\"'\n",
    "    p2 = f'\"{x_end},' + str(y_top + y_space*x) +'\"'\n",
    "    p3 = f'\"{x_end},' + str(y_bottom + y_space*x) +'\"'\n",
    "    p4 = f'\"{x_start},' + str(y_bottom + y_space*x) +'\"'\n",
    "    status = '\"empty\"'\n",
    "    date = int(datetime.now().timestamp())\n",
    "    update = f\"UPDATE carpark SET p1={p1},p2={p2},p3={p3},p4={p4},status={status},date={date} WHERE id={id};\"\n",
    "    print(update)"
   ]
  }
 ],
 "metadata": {
  "kernelspec": {
   "display_name": "Python 3.10.6 64-bit",
   "language": "python",
   "name": "python3"
  },
  "language_info": {
   "codemirror_mode": {
    "name": "ipython",
    "version": 3
   },
   "file_extension": ".py",
   "mimetype": "text/x-python",
   "name": "python",
   "nbconvert_exporter": "python",
   "pygments_lexer": "ipython3",
   "version": "3.10.6"
  },
  "orig_nbformat": 4,
  "vscode": {
   "interpreter": {
    "hash": "70c7beaef8d5ffbc8b78002da42eff76d1e0eacf1346eea99ec5d1e6435fddb5"
   }
  }
 },
 "nbformat": 4,
 "nbformat_minor": 2
}
