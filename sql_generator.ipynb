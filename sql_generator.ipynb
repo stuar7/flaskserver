{
 "cells": [
  {
   "cell_type": "code",
   "execution_count": 2,
   "metadata": {},
   "outputs": [],
   "source": [
    "from datetime import datetime\n",
    "table = \"uwacarpark1\"\n",
    "\n",
    "x_start = 731\n",
    "x_end = 731 + 3 + 24\n",
    "y_top = 83\n",
    "y_bottom = 13\n",
    "\n",
    "x_space = x_end - x_start + 6 #28 + 5\n",
    "y_space = 0\n",
    "\n",
    "b_amount = 20\n",
    "# 226,769\",p2=\"244,769\",p3=\"244,714\",p4=\"226,714\"\n",
    "id_buffer = 243"
   ]
  },
  {
   "cell_type": "code",
   "execution_count": null,
   "metadata": {},
   "outputs": [],
   "source": [
    "for x in range(0, b_amount+1):\n",
    "    id = x+1 + id_buffer\n",
    "    p1 = f'\"{x_start + x_space*x},' + str(y_top + y_space*x) +'\"'\n",
    "    p2 = f'\"{x_end +  x_space*x},' + str(y_top + y_space*x) +'\"'\n",
    "    p3 = f'\"{x_end +  x_space*x},' + str(y_bottom + y_space*x) +'\"'\n",
    "    p4 = f'\"{x_start +  x_space*x},' + str(y_bottom + y_space*x) +'\"'\n",
    "    status = '\"empty\"'\n",
    "    date = int(datetime.now().timestamp())\n",
    "    insert = f\"INSERT INTO {table} (id,p1,p2,p3,p4,status,date) VALUES ({str(id)},{p1},{p2},{p3},{p4},{status},{str(date)});\"\n",
    "    print(insert)"
   ]
  },
  {
   "cell_type": "code",
   "execution_count": null,
   "metadata": {},
   "outputs": [],
   "source": [
    "for x in range(0, b_amount+1):\n",
    "    id = x+1 + id_buffer\n",
    "    p1 = f'\"{x_start + x_space*x},' + str(y_top + y_space*x) +'\"'\n",
    "    p2 = f'\"{x_end +  x_space*x},' + str(y_top + y_space*x) +'\"'\n",
    "    p3 = f'\"{x_end +  x_space*x},' + str(y_bottom + y_space*x) +'\"'\n",
    "    p4 = f'\"{x_start +  x_space*x},' + str(y_bottom + y_space*x) +'\"'\n",
    "    status = '\"empty\"'\n",
    "    date = int(datetime.now().timestamp())\n",
    "    update = f\"UPDATE {table} SET p1={p1},p2={p2},p3={p3},p4={p4},status={status},date={date} WHERE id={id};\"\n",
    "    print(update)"
   ]
  },
  {
   "cell_type": "code",
   "execution_count": null,
   "metadata": {},
   "outputs": [],
   "source": [
    "# Snapshot data generator\n",
    "\n",
    "import datetime as dt \n",
    "def isNowInTimePeriod(startTime, endTime, nowTime): \n",
    "    if startTime < endTime: \n",
    "        return nowTime >= startTime and nowTime <= endTime \n",
    "    else: \n",
    "        #Over midnight: \n",
    "        return nowTime >= startTime or nowTime <= endTime \n",
    "\n",
    "from datetime import datetime\n",
    "from datetime import timedelta\n",
    "import random\n",
    "import math\n",
    "table = \"snapshot\"\n",
    "carparkname = \"uwacarpark1\"\n",
    "available = 283\n",
    "\n",
    "start = datetime(2022, 9, 1, 0, 0)\n",
    "\n",
    "minutes = 0\n",
    "maxrange = 1 + (24 * 2 * 60)\n",
    "\n",
    "for i in range(maxrange):\n",
    "    \n",
    "    \n",
    "    thistime = start + timedelta(minutes=minutes)\n",
    "    timestamp = datetime.timestamp(thistime)\n",
    "\n",
    "    isPeakHours = isNowInTimePeriod(dt.time(8,30), dt.time(16,30), dt.time(thistime.hour, thistime.minute))\n",
    "    if(isPeakHours):\n",
    "        if(datetime.fromtimestamp(timestamp).isoweekday() >= 6):\n",
    "            rand = random.randint(4,75)\n",
    "        else:\n",
    "            rand = random.randint(225, available + 1)\n",
    "    else:\n",
    "        if(datetime.fromtimestamp(timestamp).isoweekday() >= 6):\n",
    "            rand = random.randint(4,55)\n",
    "        else:\n",
    "            rand = random.randint(4, 30)\n",
    "    leftover = available-rand\n",
    "    BAYS_EMPTY = leftover\n",
    "    BAYS_FULL = rand\n",
    "    BAYS_UNKNOWN = 0\n",
    "    \n",
    "    insert = f\"INSERT INTO {table} (carparkname, BAYS_EMPTY, BAYS_FULL, BAYS_UNKNOWN, date) VALUES (\\\"{carparkname}\\\",{BAYS_EMPTY},{BAYS_FULL},{BAYS_UNKNOWN},{timestamp});\"\n",
    "    print(insert)\n",
    "    minutes += 30"
   ]
  }
 ],
 "metadata": {
  "kernelspec": {
   "display_name": "Python 3.10.6 64-bit",
   "language": "python",
   "name": "python3"
  },
  "language_info": {
   "codemirror_mode": {
    "name": "ipython",
    "version": 3
   },
   "file_extension": ".py",
   "mimetype": "text/x-python",
   "name": "python",
   "nbconvert_exporter": "python",
   "pygments_lexer": "ipython3",
   "version": "3.10.6 (tags/v3.10.6:9c7b4bd, Aug  1 2022, 21:53:49) [MSC v.1932 64 bit (AMD64)]"
  },
  "orig_nbformat": 4,
  "vscode": {
   "interpreter": {
    "hash": "70c7beaef8d5ffbc8b78002da42eff76d1e0eacf1346eea99ec5d1e6435fddb5"
   }
  }
 },
 "nbformat": 4,
 "nbformat_minor": 2
}
