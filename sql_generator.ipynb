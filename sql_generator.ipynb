{
 "cells": [
  {
   "cell_type": "code",
   "execution_count": 75,
   "metadata": {},
   "outputs": [],
   "source": [
    "from datetime import datetime\n",
    "#x_start = 20\n",
    "#x_end = 100\n",
    "#y_top = 14\n",
    "#y_bottom = 49\n",
    "#y_space = 46\n",
    "\n",
    "table = \"uwacarpark1\"\n",
    "\n",
    "x_start = 789\n",
    "x_end = 807\n",
    "y_top = 769\n",
    "y_bottom = 714\n",
    "\n",
    "x_space = x_end - x_start + 4\n",
    "y_space = 0\n",
    "\n",
    "b_amount = 18\n",
    "# 226,769\",p2=\"244,769\",p3=\"244,714\",p4=\"226,714\"\n",
    "id_buffer = 29"
   ]
  },
  {
   "cell_type": "code",
   "execution_count": 56,
   "metadata": {},
   "outputs": [
    {
     "name": "stdout",
     "output_type": "stream",
     "text": [
      "INSERT INTO uwacarpark1 (id,p1,p2,p3,p4,status,date) VALUES (20,\"554,769\",\"571,769\",\"571,714\",\"554,714\",\"empty\",1664867676);\n",
      "INSERT INTO uwacarpark1 (id,p1,p2,p3,p4,status,date) VALUES (21,\"575,769\",\"592,769\",\"592,714\",\"575,714\",\"empty\",1664867676);\n",
      "INSERT INTO uwacarpark1 (id,p1,p2,p3,p4,status,date) VALUES (22,\"596,769\",\"613,769\",\"613,714\",\"596,714\",\"empty\",1664867676);\n",
      "INSERT INTO uwacarpark1 (id,p1,p2,p3,p4,status,date) VALUES (23,\"617,769\",\"634,769\",\"634,714\",\"617,714\",\"empty\",1664867676);\n",
      "INSERT INTO uwacarpark1 (id,p1,p2,p3,p4,status,date) VALUES (24,\"638,769\",\"655,769\",\"655,714\",\"638,714\",\"empty\",1664867676);\n",
      "INSERT INTO uwacarpark1 (id,p1,p2,p3,p4,status,date) VALUES (25,\"659,769\",\"676,769\",\"676,714\",\"659,714\",\"empty\",1664867676);\n",
      "INSERT INTO uwacarpark1 (id,p1,p2,p3,p4,status,date) VALUES (26,\"680,769\",\"697,769\",\"697,714\",\"680,714\",\"empty\",1664867676);\n",
      "INSERT INTO uwacarpark1 (id,p1,p2,p3,p4,status,date) VALUES (27,\"701,769\",\"718,769\",\"718,714\",\"701,714\",\"empty\",1664867676);\n",
      "INSERT INTO uwacarpark1 (id,p1,p2,p3,p4,status,date) VALUES (28,\"722,769\",\"739,769\",\"739,714\",\"722,714\",\"empty\",1664867676);\n",
      "INSERT INTO uwacarpark1 (id,p1,p2,p3,p4,status,date) VALUES (29,\"743,769\",\"760,769\",\"760,714\",\"743,714\",\"empty\",1664867676);\n",
      "INSERT INTO uwacarpark1 (id,p1,p2,p3,p4,status,date) VALUES (30,\"764,769\",\"781,769\",\"781,714\",\"764,714\",\"empty\",1664867676);\n",
      "INSERT INTO uwacarpark1 (id,p1,p2,p3,p4,status,date) VALUES (31,\"785,769\",\"802,769\",\"802,714\",\"785,714\",\"empty\",1664867676);\n",
      "INSERT INTO uwacarpark1 (id,p1,p2,p3,p4,status,date) VALUES (32,\"806,769\",\"823,769\",\"823,714\",\"806,714\",\"empty\",1664867676);\n",
      "INSERT INTO uwacarpark1 (id,p1,p2,p3,p4,status,date) VALUES (33,\"827,769\",\"844,769\",\"844,714\",\"827,714\",\"empty\",1664867676);\n",
      "INSERT INTO uwacarpark1 (id,p1,p2,p3,p4,status,date) VALUES (34,\"848,769\",\"865,769\",\"865,714\",\"848,714\",\"empty\",1664867676);\n",
      "INSERT INTO uwacarpark1 (id,p1,p2,p3,p4,status,date) VALUES (35,\"869,769\",\"886,769\",\"886,714\",\"869,714\",\"empty\",1664867676);\n",
      "INSERT INTO uwacarpark1 (id,p1,p2,p3,p4,status,date) VALUES (36,\"890,769\",\"907,769\",\"907,714\",\"890,714\",\"empty\",1664867676);\n",
      "INSERT INTO uwacarpark1 (id,p1,p2,p3,p4,status,date) VALUES (37,\"911,769\",\"928,769\",\"928,714\",\"911,714\",\"empty\",1664867676);\n",
      "INSERT INTO uwacarpark1 (id,p1,p2,p3,p4,status,date) VALUES (38,\"932,769\",\"949,769\",\"949,714\",\"932,714\",\"empty\",1664867676);\n"
     ]
    }
   ],
   "source": [
    "for x in range(0, b_amount+1):\n",
    "    id = x+1 + id_buffer\n",
    "    p1 = f'\"{x_start + x_space*x},' + str(y_top + y_space*x) +'\"'\n",
    "    p2 = f'\"{x_end +  x_space*x},' + str(y_top + y_space*x) +'\"'\n",
    "    p3 = f'\"{x_end +  x_space*x},' + str(y_bottom + y_space*x) +'\"'\n",
    "    p4 = f'\"{x_start +  x_space*x},' + str(y_bottom + y_space*x) +'\"'\n",
    "    status = '\"empty\"'\n",
    "    date = int(datetime.now().timestamp())\n",
    "    insert = f\"INSERT INTO {table} (id,p1,p2,p3,p4,status,date) VALUES ({str(id)},{p1},{p2},{p3},{p4},{status},{str(date)});\"\n",
    "    print(insert)"
   ]
  },
  {
   "cell_type": "code",
   "execution_count": 76,
   "metadata": {},
   "outputs": [
    {
     "name": "stdout",
     "output_type": "stream",
     "text": [
      "UPDATE uwacarpark1 SET p1=\"789,769\",p2=\"807,769\",p3=\"807,714\",p4=\"789,714\",status=\"empty\",date=1664868575 WHERE id=30;\n",
      "UPDATE uwacarpark1 SET p1=\"811,769\",p2=\"829,769\",p3=\"829,714\",p4=\"811,714\",status=\"empty\",date=1664868575 WHERE id=31;\n",
      "UPDATE uwacarpark1 SET p1=\"833,769\",p2=\"851,769\",p3=\"851,714\",p4=\"833,714\",status=\"empty\",date=1664868575 WHERE id=32;\n",
      "UPDATE uwacarpark1 SET p1=\"855,769\",p2=\"873,769\",p3=\"873,714\",p4=\"855,714\",status=\"empty\",date=1664868575 WHERE id=33;\n",
      "UPDATE uwacarpark1 SET p1=\"877,769\",p2=\"895,769\",p3=\"895,714\",p4=\"877,714\",status=\"empty\",date=1664868575 WHERE id=34;\n",
      "UPDATE uwacarpark1 SET p1=\"899,769\",p2=\"917,769\",p3=\"917,714\",p4=\"899,714\",status=\"empty\",date=1664868575 WHERE id=35;\n",
      "UPDATE uwacarpark1 SET p1=\"921,769\",p2=\"939,769\",p3=\"939,714\",p4=\"921,714\",status=\"empty\",date=1664868575 WHERE id=36;\n",
      "UPDATE uwacarpark1 SET p1=\"943,769\",p2=\"961,769\",p3=\"961,714\",p4=\"943,714\",status=\"empty\",date=1664868575 WHERE id=37;\n",
      "UPDATE uwacarpark1 SET p1=\"965,769\",p2=\"983,769\",p3=\"983,714\",p4=\"965,714\",status=\"empty\",date=1664868575 WHERE id=38;\n",
      "UPDATE uwacarpark1 SET p1=\"987,769\",p2=\"1005,769\",p3=\"1005,714\",p4=\"987,714\",status=\"empty\",date=1664868575 WHERE id=39;\n",
      "UPDATE uwacarpark1 SET p1=\"1009,769\",p2=\"1027,769\",p3=\"1027,714\",p4=\"1009,714\",status=\"empty\",date=1664868575 WHERE id=40;\n",
      "UPDATE uwacarpark1 SET p1=\"1031,769\",p2=\"1049,769\",p3=\"1049,714\",p4=\"1031,714\",status=\"empty\",date=1664868575 WHERE id=41;\n",
      "UPDATE uwacarpark1 SET p1=\"1053,769\",p2=\"1071,769\",p3=\"1071,714\",p4=\"1053,714\",status=\"empty\",date=1664868575 WHERE id=42;\n",
      "UPDATE uwacarpark1 SET p1=\"1075,769\",p2=\"1093,769\",p3=\"1093,714\",p4=\"1075,714\",status=\"empty\",date=1664868575 WHERE id=43;\n",
      "UPDATE uwacarpark1 SET p1=\"1097,769\",p2=\"1115,769\",p3=\"1115,714\",p4=\"1097,714\",status=\"empty\",date=1664868575 WHERE id=44;\n",
      "UPDATE uwacarpark1 SET p1=\"1119,769\",p2=\"1137,769\",p3=\"1137,714\",p4=\"1119,714\",status=\"empty\",date=1664868575 WHERE id=45;\n",
      "UPDATE uwacarpark1 SET p1=\"1141,769\",p2=\"1159,769\",p3=\"1159,714\",p4=\"1141,714\",status=\"empty\",date=1664868575 WHERE id=46;\n",
      "UPDATE uwacarpark1 SET p1=\"1163,769\",p2=\"1181,769\",p3=\"1181,714\",p4=\"1163,714\",status=\"empty\",date=1664868575 WHERE id=47;\n",
      "UPDATE uwacarpark1 SET p1=\"1185,769\",p2=\"1203,769\",p3=\"1203,714\",p4=\"1185,714\",status=\"empty\",date=1664868575 WHERE id=48;\n"
     ]
    }
   ],
   "source": [
    "for x in range(0, b_amount+1):\n",
    "    id = x+1 + id_buffer\n",
    "    p1 = f'\"{x_start + x_space*x},' + str(y_top + y_space*x) +'\"'\n",
    "    p2 = f'\"{x_end +  x_space*x},' + str(y_top + y_space*x) +'\"'\n",
    "    p3 = f'\"{x_end +  x_space*x},' + str(y_bottom + y_space*x) +'\"'\n",
    "    p4 = f'\"{x_start +  x_space*x},' + str(y_bottom + y_space*x) +'\"'\n",
    "    status = '\"empty\"'\n",
    "    date = int(datetime.now().timestamp())\n",
    "    update = f\"UPDATE {table} SET p1={p1},p2={p2},p3={p3},p4={p4},status={status},date={date} WHERE id={id};\"\n",
    "    print(update)"
   ]
  }
 ],
 "metadata": {
  "kernelspec": {
   "display_name": "Python 3.10.6 64-bit",
   "language": "python",
   "name": "python3"
  },
  "language_info": {
   "codemirror_mode": {
    "name": "ipython",
    "version": 3
   },
   "file_extension": ".py",
   "mimetype": "text/x-python",
   "name": "python",
   "nbconvert_exporter": "python",
   "pygments_lexer": "ipython3",
   "version": "3.10.6"
  },
  "orig_nbformat": 4,
  "vscode": {
   "interpreter": {
    "hash": "70c7beaef8d5ffbc8b78002da42eff76d1e0eacf1346eea99ec5d1e6435fddb5"
   }
  }
 },
 "nbformat": 4,
 "nbformat_minor": 2
}
