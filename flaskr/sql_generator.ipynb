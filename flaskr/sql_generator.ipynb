{
 "cells": [
  {
   "cell_type": "code",
   "execution_count": 34,
   "metadata": {},
   "outputs": [
    {
     "name": "stdout",
     "output_type": "stream",
     "text": [
      "INSERT INTO carpark (id,p1,p2,p3,p4,status,date) VALUES (47,\"533,152\",\"613,152\",\"613,187\",\"533,187\",\"empty\",1664455121);\n",
      "INSERT INTO carpark (id,p1,p2,p3,p4,status,date) VALUES (48,\"533,198\",\"613,198\",\"613,233\",\"533,233\",\"empty\",1664455121);\n",
      "INSERT INTO carpark (id,p1,p2,p3,p4,status,date) VALUES (49,\"533,244\",\"613,244\",\"613,279\",\"533,279\",\"empty\",1664455121);\n",
      "INSERT INTO carpark (id,p1,p2,p3,p4,status,date) VALUES (50,\"533,290\",\"613,290\",\"613,325\",\"533,325\",\"empty\",1664455121);\n",
      "INSERT INTO carpark (id,p1,p2,p3,p4,status,date) VALUES (51,\"533,336\",\"613,336\",\"613,371\",\"533,371\",\"empty\",1664455121);\n",
      "INSERT INTO carpark (id,p1,p2,p3,p4,status,date) VALUES (52,\"533,382\",\"613,382\",\"613,417\",\"533,417\",\"empty\",1664455121);\n",
      "INSERT INTO carpark (id,p1,p2,p3,p4,status,date) VALUES (53,\"533,428\",\"613,428\",\"613,463\",\"533,463\",\"empty\",1664455121);\n",
      "INSERT INTO carpark (id,p1,p2,p3,p4,status,date) VALUES (54,\"533,474\",\"613,474\",\"613,509\",\"533,509\",\"empty\",1664455121);\n",
      "INSERT INTO carpark (id,p1,p2,p3,p4,status,date) VALUES (55,\"533,520\",\"613,520\",\"613,555\",\"533,555\",\"empty\",1664455121);\n",
      "INSERT INTO carpark (id,p1,p2,p3,p4,status,date) VALUES (56,\"533,566\",\"613,566\",\"613,601\",\"533,601\",\"empty\",1664455121);\n",
      "INSERT INTO carpark (id,p1,p2,p3,p4,status,date) VALUES (57,\"533,612\",\"613,612\",\"613,647\",\"533,647\",\"empty\",1664455121);\n"
     ]
    }
   ],
   "source": [
    "from datetime import datetime\n",
    "\n",
    "#x_start = 20\n",
    "#x_end = 100\n",
    "#y_top = 14\n",
    "#y_bottom = 49\n",
    "#y_space = 46\n",
    "\n",
    "x_start = 711\n",
    "x_end = 791\n",
    "y_top = 152-46\n",
    "y_bottom = 187-46\n",
    "y_space = 46\n",
    "\n",
    "b_amount = 11\n",
    "\n",
    "id_buffer = 57\n",
    "\n",
    "for x in range(0, b_amount+1):\n",
    "    insert = \"INSERT INTO carpark (id,p1,p2,p3,p4,status,date) VALUES \"\n",
    "    id = x+1 + id_buffer\n",
    "    p1 = f'\"{x_start},' + str(y_top + y_space*x) +'\"'\n",
    "    p2 = f'\"{x_end},' + str(y_top + y_space*x) +'\"'\n",
    "    p3 = f'\"{x_end},' + str(y_bottom + y_space*x) +'\"'\n",
    "    p4 = f'\"{x_start},' + str(y_bottom + y_space*x) +'\"'\n",
    "    status = '\"empty\"'\n",
    "    date = int(datetime.now().timestamp())\n",
    "    insert += \"(\"+str(id)+\",\"+p1+\",\"+p2+\",\"+p3+\",\"+p4+\",\"+status+\",\"+str(date)+\");\"\n",
    "    #print(x)\n",
    "    print(insert)\n",
    "\n"
   ]
  },
  {
   "cell_type": "code",
   "execution_count": 39,
   "metadata": {},
   "outputs": [
    {
     "name": "stdout",
     "output_type": "stream",
     "text": [
      "UPDATE carpark SET p1=\"536,152\",p2=\"623,152\",p3=\"623,187\",p4=\"536,187\",status=\"empty\",date=1664455330 WHERE id=47;\n",
      "UPDATE carpark SET p1=\"536,198\",p2=\"623,198\",p3=\"623,233\",p4=\"536,233\",status=\"empty\",date=1664455330 WHERE id=48;\n",
      "UPDATE carpark SET p1=\"536,244\",p2=\"623,244\",p3=\"623,279\",p4=\"536,279\",status=\"empty\",date=1664455330 WHERE id=49;\n",
      "UPDATE carpark SET p1=\"536,290\",p2=\"623,290\",p3=\"623,325\",p4=\"536,325\",status=\"empty\",date=1664455330 WHERE id=50;\n",
      "UPDATE carpark SET p1=\"536,336\",p2=\"623,336\",p3=\"623,371\",p4=\"536,371\",status=\"empty\",date=1664455330 WHERE id=51;\n",
      "UPDATE carpark SET p1=\"536,382\",p2=\"623,382\",p3=\"623,417\",p4=\"536,417\",status=\"empty\",date=1664455330 WHERE id=52;\n",
      "UPDATE carpark SET p1=\"536,428\",p2=\"623,428\",p3=\"623,463\",p4=\"536,463\",status=\"empty\",date=1664455330 WHERE id=53;\n",
      "UPDATE carpark SET p1=\"536,474\",p2=\"623,474\",p3=\"623,509\",p4=\"536,509\",status=\"empty\",date=1664455330 WHERE id=54;\n",
      "UPDATE carpark SET p1=\"536,520\",p2=\"623,520\",p3=\"623,555\",p4=\"536,555\",status=\"empty\",date=1664455330 WHERE id=55;\n",
      "UPDATE carpark SET p1=\"536,566\",p2=\"623,566\",p3=\"623,601\",p4=\"536,601\",status=\"empty\",date=1664455330 WHERE id=56;\n",
      "UPDATE carpark SET p1=\"536,612\",p2=\"623,612\",p3=\"623,647\",p4=\"536,647\",status=\"empty\",date=1664455330 WHERE id=57;\n"
     ]
    }
   ],
   "source": [
    "from datetime import datetime\n",
    "\n",
    "x_start = 711\n",
    "x_end = 791\n",
    "y_top = 152-46\n",
    "y_bottom = 187-46\n",
    "y_space = 46\n",
    "\n",
    "b_amount = 10\n",
    "\n",
    "id_buffer = 46\n",
    "\n",
    "for x in range(0, b_amount+1):\n",
    "    insert = \"INSERT INTO carpark (id,p1,p2,p3,p4,status,date) VALUES \"\n",
    "    id = x+1 + id_buffer\n",
    "    p1 = f'\"{x_start},' + str(y_top + y_space*x) +'\"'\n",
    "    p2 = f'\"{x_end},' + str(y_top + y_space*x) +'\"'\n",
    "    p3 = f'\"{x_end},' + str(y_bottom + y_space*x) +'\"'\n",
    "    p4 = f'\"{x_start},' + str(y_bottom + y_space*x) +'\"'\n",
    "    status = '\"empty\"'\n",
    "    date = int(datetime.now().timestamp())\n",
    "    insert = f\"UPDATE carpark SET p1={p1},p2={p2},p3={p3},p4={p4},status={status},date={date} WHERE id={id};\"\n",
    "    #print(x)\n",
    "    print(insert)"
   ]
  }
 ],
 "metadata": {
  "kernelspec": {
   "display_name": "Python 3.10.6 64-bit",
   "language": "python",
   "name": "python3"
  },
  "language_info": {
   "codemirror_mode": {
    "name": "ipython",
    "version": 3
   },
   "file_extension": ".py",
   "mimetype": "text/x-python",
   "name": "python",
   "nbconvert_exporter": "python",
   "pygments_lexer": "ipython3",
   "version": "3.10.6"
  },
  "orig_nbformat": 4,
  "vscode": {
   "interpreter": {
    "hash": "70c7beaef8d5ffbc8b78002da42eff76d1e0eacf1346eea99ec5d1e6435fddb5"
   }
  }
 },
 "nbformat": 4,
 "nbformat_minor": 2
}
